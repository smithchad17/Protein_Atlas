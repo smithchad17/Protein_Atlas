{
 "cells": [
  {
   "cell_type": "markdown",
   "metadata": {},
   "source": [
    "# Trial Code"
   ]
  },
  {
   "cell_type": "code",
   "execution_count": 2,
   "metadata": {},
   "outputs": [],
   "source": [
    "import pandas as pd\n",
    "import numpy as np\n",
    "import os\n",
    "import cv2\n",
    "from tqdm import tqdm\n",
    "import pickle\n",
    "from itertools import groupby\n",
    "from pycocotools import mask as mutils\n",
    "from pycocotools import _mask as coco_mask\n",
    "import matplotlib.pyplot as plt\n",
    "import os\n",
    "import base64\n",
    "import typing as t\n",
    "import zlib\n",
    "import random\n",
    "random.seed(0)"
   ]
  },
  {
   "cell_type": "code",
   "execution_count": null,
   "metadata": {},
   "outputs": [],
   "source": [
    "exp_name = \"v4\"\n",
    "conf_name = \"mask_rcnn_s101_fpn_syncbn-backbone+head_mstrain_1x_coco\"\n",
    "model_name = 'mask_rcnn_resnest101_v5_ep9'\n",
    "ROOT = '../input/hpa-single-cell-image-classification/'\n",
    "train_or_test = 'test'\n",
    "df = pd.read_csv(os.path.join(ROOT, 'sample_submission.csv'))\n",
    "if len(df) == 559:\n",
    "    debug = True\n",
    "    df = df[:3]\n",
    "else:\n",
    "    debug = False"
   ]
  }
 ],
 "metadata": {
  "kernelspec": {
   "display_name": "Python 3",
   "language": "python",
   "name": "python3"
  },
  "language_info": {
   "codemirror_mode": {
    "name": "ipython",
    "version": 3
   },
   "file_extension": ".py",
   "mimetype": "text/x-python",
   "name": "python",
   "nbconvert_exporter": "python",
   "pygments_lexer": "ipython3",
   "version": "3.8.5"
  }
 },
 "nbformat": 4,
 "nbformat_minor": 4
}
